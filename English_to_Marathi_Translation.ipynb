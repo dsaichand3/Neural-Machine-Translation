{
  "nbformat": 4,
  "nbformat_minor": 0,
  "metadata": {
    "colab": {
      "name": "English to Marathi Translation",
      "version": "0.3.2",
      "provenance": [],
      "include_colab_link": true
    },
    "kernelspec": {
      "name": "python3",
      "display_name": "Python 3"
    },
    "accelerator": "GPU"
  },
  "cells": [
    {
      "cell_type": "markdown",
      "metadata": {
        "id": "view-in-github",
        "colab_type": "text"
      },
      "source": [
        "<a href=\"https://colab.research.google.com/github/dsaichand3/Neural-Machine-Translation/blob/master/English_to_Marathi_Translation.ipynb\" target=\"_parent\"><img src=\"https://colab.research.google.com/assets/colab-badge.svg\" alt=\"Open In Colab\"/></a>"
      ]
    },
    {
      "cell_type": "code",
      "metadata": {
        "id": "H8EyBYIL9eYG",
        "colab_type": "code",
        "colab": {}
      },
      "source": [
        "import numpy as np\n",
        "import pandas as pd\n",
        "import re\n",
        "import string"
      ],
      "execution_count": 0,
      "outputs": []
    },
    {
      "cell_type": "code",
      "metadata": {
        "id": "mzPL7ZLZXUFf",
        "colab_type": "code",
        "colab": {}
      },
      "source": [
        "from tensorflow.keras.layers import CuDNNLSTM, Embedding, Input, Dense\n",
        "from tensorflow.keras.models import Model\n",
        "from tensorflow.keras.optimizers import Adam\n",
        "from sklearn.model_selection import train_test_split\n",
        "from sklearn.utils import shuffle"
      ],
      "execution_count": 0,
      "outputs": []
    },
    {
      "cell_type": "code",
      "metadata": {
        "id": "unN1b8d6UPYV",
        "colab_type": "code",
        "colab": {
          "base_uri": "https://localhost:8080/",
          "height": 51
        },
        "outputId": "9b44a6ba-6e89-4024-d799-8bea9f9295e5"
      },
      "source": [
        "lines = pd.read_table('mar.txt', names=['eng', 'mar'])"
      ],
      "execution_count": 16,
      "outputs": [
        {
          "output_type": "stream",
          "text": [
            "/usr/local/lib/python3.6/dist-packages/ipykernel_launcher.py:1: FutureWarning: read_table is deprecated, use read_csv instead, passing sep='\\t'.\n",
            "  \"\"\"Entry point for launching an IPython kernel.\n"
          ],
          "name": "stderr"
        }
      ]
    },
    {
      "cell_type": "code",
      "metadata": {
        "id": "j5-zRiDAURop",
        "colab_type": "code",
        "colab": {}
      },
      "source": [
        "lines.eng=lines.eng.apply(lambda x: x.lower())\n",
        "lines.mar=lines.mar.apply(lambda x: x.lower())\n",
        "\n",
        "lines.eng=lines.eng.apply(lambda x: re.sub(\"'\", '', x))\n",
        "lines.mar=lines.mar.apply(lambda x: re.sub(\"'\", '', x))\n",
        "exclude = set(string.punctuation) # Set of all special characters\n",
        "\n",
        "# Remove all the special characters\n",
        "lines.eng=lines.eng.apply(lambda x: ''.join(ch for ch in x if ch not in exclude))\n",
        "lines.mar=lines.mar.apply(lambda x: ''.join(ch for ch in x if ch not in exclude))\n",
        "\n",
        "# Remove all numbers from text\n",
        "remove_digits = str.maketrans('', '', string.digits)\n",
        "lines.eng=lines.eng.apply(lambda x: x.translate(remove_digits))\n",
        "lines.mar = lines.mar.apply(lambda x: re.sub(\"[२३०८१५७९४६]\", \"\", x))\n",
        "\n",
        "# Remove extra spaces\n",
        "lines.eng=lines.eng.apply(lambda x: x.strip())\n",
        "lines.mar=lines.mar.apply(lambda x: x.strip())\n",
        "lines.eng=lines.eng.apply(lambda x: re.sub(\" +\", \" \", x))\n",
        "lines.mar=lines.mar.apply(lambda x: re.sub(\" +\", \" \", x))\n",
        "\n",
        "# Add start and end tokens to target sequences\n",
        "lines.mar = lines.mar.apply(lambda x : 'START_ '+ x + ' _END')"
      ],
      "execution_count": 0,
      "outputs": []
    },
    {
      "cell_type": "code",
      "metadata": {
        "id": "-t2EEVL3UlMY",
        "colab_type": "code",
        "colab": {}
      },
      "source": [
        "# Vocabulary of English\n",
        "all_eng_words=set()\n",
        "for eng in lines.eng:\n",
        "    for word in eng.split():\n",
        "        if word not in all_eng_words:\n",
        "            all_eng_words.add(word)\n",
        "\n",
        "# Vocabulary of French \n",
        "all_marathi_words=set()\n",
        "for mar in lines.mar:\n",
        "    for word in mar.split():\n",
        "        if word not in all_marathi_words:\n",
        "            all_marathi_words.add(word)\n",
        "\n",
        "# Max Length of source sequence\n",
        "lenght_list=[]\n",
        "for l in lines.eng:\n",
        "    lenght_list.append(len(l.split(' ')))\n",
        "max_length_src = np.max(lenght_list)\n",
        "\n",
        "# Max Length of target sequence\n",
        "lenght_list=[]\n",
        "for l in lines.mar:\n",
        "    lenght_list.append(len(l.split(' ')))\n",
        "max_length_tar = np.max(lenght_list)\n",
        "\n",
        "input_words = sorted(list(all_eng_words))\n",
        "target_words = sorted(list(all_marathi_words))\n",
        "\n",
        "# Calculate Vocab size for both source and target\n",
        "num_encoder_tokens = len(all_eng_words)\n",
        "num_decoder_tokens = len(all_marathi_words)\n",
        "num_decoder_tokens += 1 # For zero padding\n",
        "\n",
        "# Create word to token dictionary for both source and target\n",
        "input_token_index = dict([(word, i+1) for i, word in enumerate(input_words)])\n",
        "target_token_index = dict([(word, i+1) for i, word in enumerate(target_words)])\n",
        "\n",
        "# Create token to word dictionary for both source and target\n",
        "reverse_input_char_index = dict((i, word) for word, i in input_token_index.items())\n",
        "reverse_target_char_index = dict((i, word) for word, i in target_token_index.items())"
      ],
      "execution_count": 0,
      "outputs": []
    },
    {
      "cell_type": "code",
      "metadata": {
        "id": "3o67Dq_gVg5n",
        "colab_type": "code",
        "colab": {}
      },
      "source": [
        "def generate_batch(X, y, batch_size = 128):\n",
        "    ''' Generate a batch of data '''\n",
        "    while True:\n",
        "        for j in range(0, len(X), batch_size):\n",
        "            encoder_input_data = np.zeros((batch_size, max_length_src),dtype='float32')\n",
        "            decoder_input_data = np.zeros((batch_size, max_length_tar),dtype='float32')\n",
        "            decoder_target_data = np.zeros((batch_size, max_length_tar, num_decoder_tokens),dtype='float32')\n",
        "            for i, (input_text, target_text) in enumerate(zip(X[j:j+batch_size], y[j:j+batch_size])):\n",
        "                for t, word in enumerate(input_text.split()):\n",
        "                    encoder_input_data[i, t] = input_token_index[word] # encoder input seq\n",
        "                for t, word in enumerate(target_text.split()):\n",
        "                    if t<len(target_text.split())-1:\n",
        "                        decoder_input_data[i, t] = target_token_index[word] # decoder input seq\n",
        "                    if t>0:\n",
        "                        # decoder target sequence (one hot encoded)\n",
        "                        # does not include the START_ token\n",
        "                        # Offset by one timestep\n",
        "                        decoder_target_data[i, t - 1, target_token_index[word]] = 1.\n",
        "            yield([encoder_input_data, decoder_input_data], decoder_target_data)"
      ],
      "execution_count": 0,
      "outputs": []
    },
    {
      "cell_type": "code",
      "metadata": {
        "id": "E2VV5-PkX0VX",
        "colab_type": "code",
        "colab": {
          "base_uri": "https://localhost:8080/",
          "height": 34
        },
        "outputId": "2ed0c0ae-f43c-41e0-c8db-9f13f3585952"
      },
      "source": [
        "latent_dim = 50\n",
        "\n",
        "lines = shuffle(lines)\n",
        "X, y = lines.eng, lines.mar\n",
        "X_train, X_test, y_train, y_test = train_test_split(X, y, test_size = 0.1)\n",
        "X_train.shape, X_test.shape"
      ],
      "execution_count": 35,
      "outputs": [
        {
          "output_type": "execute_result",
          "data": {
            "text/plain": [
              "((30352,), (3373,))"
            ]
          },
          "metadata": {
            "tags": []
          },
          "execution_count": 35
        }
      ]
    },
    {
      "cell_type": "code",
      "metadata": {
        "id": "hVdNQEudVqtv",
        "colab_type": "code",
        "colab": {}
      },
      "source": [
        "encoder_inputs = Input(shape=(None,))\n",
        "enc_emb =  Embedding(num_encoder_tokens, latent_dim)(encoder_inputs)\n",
        "encoder_lstm = CuDNNLSTM(latent_dim, return_state=True)\n",
        "encoder_outputs, state_h, state_c = encoder_lstm(enc_emb)\n",
        "\n",
        "# We discard `encoder_outputs` and only keep the states.\n",
        "encoder_states = [state_h, state_c]\n",
        "\n",
        "# Set up the decoder, using `encoder_states` as initial state.\n",
        "decoder_inputs = Input(shape=(None,))\n",
        "dec_emb_layer = Embedding(num_decoder_tokens, latent_dim)\n",
        "dec_emb = dec_emb_layer(decoder_inputs)\n",
        "\n",
        "# We set up our decoder to return full output sequences,\n",
        "# and to return internal states as well. We don't use the\n",
        "# return states in the training model, but we will use them in inference.\n",
        "decoder_lstm = CuDNNLSTM(latent_dim, return_sequences=True, return_state=True)\n",
        "decoder_outputs, _, _ = decoder_lstm(dec_emb, initial_state=encoder_states)\n",
        "\n",
        "# Use a softmax to generate a probability distribution over the target vocabulary for each time step\n",
        "decoder_dense = Dense(num_decoder_tokens, activation='softmax')\n",
        "decoder_outputs = decoder_dense(decoder_outputs)\n",
        "\n",
        "# Define the model that will turn\n",
        "# `encoder_input_data` & `decoder_input_data` into `decoder_target_data`\n",
        "model = Model([encoder_inputs, decoder_inputs], decoder_outputs)\n",
        "\n",
        "# Compile the model\n",
        "model.compile(optimizer = Adam(lr=5e-3), loss='categorical_crossentropy', metrics=['acc'])"
      ],
      "execution_count": 0,
      "outputs": []
    },
    {
      "cell_type": "code",
      "metadata": {
        "id": "dfcg0zoyXd8U",
        "colab_type": "code",
        "colab": {}
      },
      "source": [
        "train_samples = len(X_train)\n",
        "val_samples = len(X_test)\n",
        "batch_size = 128\n",
        "epochs = 50"
      ],
      "execution_count": 0,
      "outputs": []
    },
    {
      "cell_type": "code",
      "metadata": {
        "id": "4tD05fSzX_YD",
        "colab_type": "code",
        "colab": {
          "base_uri": "https://localhost:8080/",
          "height": 867
        },
        "outputId": "ad6036fb-d42a-4ddc-f1fb-97fe970c9dd8"
      },
      "source": [
        "model.fit_generator(generator = generate_batch(X_train, y_train, batch_size = batch_size),\n",
        "                    steps_per_epoch = train_samples//batch_size,\n",
        "                    epochs=epochs,\n",
        "                    validation_data = generate_batch(X_test, y_test, batch_size = batch_size),\n",
        "                    validation_steps = val_samples//batch_size)"
      ],
      "execution_count": 0,
      "outputs": [
        {
          "output_type": "stream",
          "text": [
            "Epoch 1/50\n",
            "237/237 [==============================] - 59s 248ms/step - loss: 0.9261 - acc: 0.0309 - val_loss: 0.8513 - val_acc: 0.0346\n",
            "Epoch 2/50\n",
            "237/237 [==============================] - 57s 239ms/step - loss: 0.8142 - acc: 0.0357 - val_loss: 0.7950 - val_acc: 0.0357\n",
            "Epoch 3/50\n",
            "237/237 [==============================] - 57s 240ms/step - loss: 0.7690 - acc: 0.0382 - val_loss: 0.7684 - val_acc: 0.0381\n",
            "Epoch 4/50\n",
            "237/237 [==============================] - 57s 240ms/step - loss: 0.7277 - acc: 0.0406 - val_loss: 0.7415 - val_acc: 0.0394\n",
            "Epoch 5/50\n",
            "237/237 [==============================] - 57s 240ms/step - loss: 0.6914 - acc: 0.0428 - val_loss: 0.7283 - val_acc: 0.0407\n",
            "Epoch 6/50\n",
            "237/237 [==============================] - 57s 241ms/step - loss: 0.6590 - acc: 0.0449 - val_loss: 0.7139 - val_acc: 0.0416\n",
            "Epoch 7/50\n",
            "237/237 [==============================] - 57s 241ms/step - loss: 0.6217 - acc: 0.0474 - val_loss: 0.6904 - val_acc: 0.0439\n",
            "Epoch 8/50\n",
            "237/237 [==============================] - 57s 241ms/step - loss: 0.5847 - acc: 0.0521 - val_loss: 0.6688 - val_acc: 0.0477\n",
            "Epoch 9/50\n",
            "237/237 [==============================] - 57s 241ms/step - loss: 0.5505 - acc: 0.0559 - val_loss: 0.6548 - val_acc: 0.0498\n",
            "Epoch 10/50\n",
            "237/237 [==============================] - 57s 241ms/step - loss: 0.5184 - acc: 0.0593 - val_loss: 0.6406 - val_acc: 0.0515\n",
            "Epoch 11/50\n",
            "237/237 [==============================] - 57s 241ms/step - loss: 0.4886 - acc: 0.0624 - val_loss: 0.6275 - val_acc: 0.0536\n",
            "Epoch 12/50\n",
            "237/237 [==============================] - 57s 241ms/step - loss: 0.4608 - acc: 0.0658 - val_loss: 0.6154 - val_acc: 0.0552\n",
            "Epoch 13/50\n",
            "237/237 [==============================] - 57s 241ms/step - loss: 0.4358 - acc: 0.0689 - val_loss: 0.6057 - val_acc: 0.0567\n",
            "Epoch 14/50\n",
            "237/237 [==============================] - 57s 241ms/step - loss: 0.4142 - acc: 0.0715 - val_loss: 0.5987 - val_acc: 0.0580\n",
            "Epoch 15/50\n",
            "237/237 [==============================] - 57s 241ms/step - loss: 0.3941 - acc: 0.0743 - val_loss: 0.5936 - val_acc: 0.0591\n",
            "Epoch 16/50\n",
            "237/237 [==============================] - 57s 241ms/step - loss: 0.3758 - acc: 0.0767 - val_loss: 0.5871 - val_acc: 0.0599\n",
            "Epoch 17/50\n",
            "237/237 [==============================] - 57s 240ms/step - loss: 0.3593 - acc: 0.0789 - val_loss: 0.5898 - val_acc: 0.0603\n",
            "Epoch 18/50\n",
            "237/237 [==============================] - 57s 240ms/step - loss: 0.3445 - acc: 0.0808 - val_loss: 0.5875 - val_acc: 0.0607\n",
            "Epoch 19/50\n",
            "237/237 [==============================] - 57s 240ms/step - loss: 0.3309 - acc: 0.0827 - val_loss: 0.5765 - val_acc: 0.0620\n",
            "Epoch 20/50\n",
            "237/237 [==============================] - 57s 240ms/step - loss: 0.3186 - acc: 0.0844 - val_loss: 0.5829 - val_acc: 0.0617\n",
            "Epoch 21/50\n",
            "237/237 [==============================] - 57s 240ms/step - loss: 0.3072 - acc: 0.0860 - val_loss: 0.5809 - val_acc: 0.0622\n",
            "Epoch 22/50\n",
            "237/237 [==============================] - 57s 241ms/step - loss: 0.2965 - acc: 0.0875 - val_loss: 0.5821 - val_acc: 0.0620\n",
            "Epoch 23/50\n",
            "237/237 [==============================] - 57s 241ms/step - loss: 0.2869 - acc: 0.0890 - val_loss: 0.5783 - val_acc: 0.0625\n",
            "Epoch 24/50\n",
            "237/237 [==============================] - 57s 240ms/step - loss: 0.2782 - acc: 0.0903 - val_loss: 0.5813 - val_acc: 0.0632\n",
            "Epoch 25/50\n",
            " 86/237 [=========>....................] - ETA: 33s - loss: 0.2700 - acc: 0.0901"
          ],
          "name": "stdout"
        }
      ]
    },
    {
      "cell_type": "code",
      "metadata": {
        "id": "alS1E6XdYml6",
        "colab_type": "code",
        "colab": {}
      },
      "source": [
        "encoder_model = Model(encoder_inputs, encoder_states)\n",
        "\n",
        "# Decoder setup\n",
        "# Below tensors will hold the states of the previous time step\n",
        "decoder_state_input_h = Input(shape=(latent_dim,))\n",
        "decoder_state_input_c = Input(shape=(latent_dim,))\n",
        "decoder_states_inputs = [decoder_state_input_h, decoder_state_input_c]\n",
        "\n",
        "dec_emb2= dec_emb_layer(decoder_inputs) # Get the embeddings of the decoder sequence\n",
        "\n",
        "# To predict the next word in the sequence, set the initial states to the states from the previous time step\n",
        "decoder_outputs2, state_h2, state_c2 = decoder_lstm(dec_emb2, initial_state=decoder_states_inputs)\n",
        "decoder_states2 = [state_h2, state_c2]\n",
        "decoder_outputs2 = decoder_dense(decoder_outputs2) # A dense softmax layer to generate prob dist. over the target vocabulary\n",
        "\n",
        "# Final decoder model\n",
        "decoder_model = Model(\n",
        "    [decoder_inputs] + decoder_states_inputs,\n",
        "    [decoder_outputs2] + decoder_states2)"
      ],
      "execution_count": 0,
      "outputs": []
    },
    {
      "cell_type": "code",
      "metadata": {
        "id": "ntsHeIngZ7QZ",
        "colab_type": "code",
        "colab": {}
      },
      "source": [
        "def decode_sequence(input_seq):\n",
        "    # Encode the input as state vectors.\n",
        "    states_value = encoder_model.predict(input_seq)\n",
        "    # Generate empty target sequence of length 1.\n",
        "    target_seq = np.zeros((1,1))\n",
        "    # Populate the first character of target sequence with the start character.\n",
        "    target_seq[0, 0] = target_token_index['START_']\n",
        "\n",
        "    # Sampling loop for a batch of sequences\n",
        "    # (to simplify, here we assume a batch of size 1).\n",
        "    stop_condition = False\n",
        "    decoded_sentence = ''\n",
        "    while not stop_condition:\n",
        "        output_tokens, h, c = decoder_model.predict([target_seq] + states_value)\n",
        "\n",
        "        # Sample a token\n",
        "        sampled_token_index = np.argmax(output_tokens[0, -1, :])\n",
        "        sampled_char = reverse_target_char_index[sampled_token_index]\n",
        "        decoded_sentence += ' '+sampled_char\n",
        "\n",
        "        # Exit condition: either hit max length\n",
        "        # or find stop character.\n",
        "        if (sampled_char == '_END' or\n",
        "           len(decoded_sentence) > 50):\n",
        "            stop_condition = True\n",
        "\n",
        "        # Update the target sequence (of length 1).\n",
        "        target_seq = np.zeros((1,1))\n",
        "        target_seq[0, 0] = sampled_token_index\n",
        "\n",
        "        # Update states\n",
        "        states_value = [h, c]\n",
        "\n",
        "    return decoded_sentence\n"
      ],
      "execution_count": 0,
      "outputs": []
    },
    {
      "cell_type": "code",
      "metadata": {
        "id": "BwpTs0_faAmd",
        "colab_type": "code",
        "colab": {}
      },
      "source": [
        "train_gen = generate_batch(X_train, y_train, batch_size = 1)\n",
        "k=-1"
      ],
      "execution_count": 0,
      "outputs": []
    },
    {
      "cell_type": "code",
      "metadata": {
        "id": "gAyOtRmIaBpd",
        "colab_type": "code",
        "colab": {
          "base_uri": "https://localhost:8080/",
          "height": 68
        },
        "outputId": "0a84cb1a-649d-4fd9-a4db-95aabf724292"
      },
      "source": [
        "while True:\n",
        "    k+=1\n",
        "    (input_seq, actual_output), _ = next(train_gen)\n",
        "    decoded_sentence = decode_sequence(input_seq)\n",
        "    print('Input English sentence:', X_train[k:k+1].values[0])\n",
        "    print('Actual Marathi Translation:', y_train[k:k+1].values[0][6:-4])\n",
        "    print('Predicted Marathi Translation:', decoded_sentence[:-4])\n",
        "    if k == 15:\n",
        "        break"
      ],
      "execution_count": 47,
      "outputs": [
        {
          "output_type": "stream",
          "text": [
            "Input English sentence: hamilton protested against british rule\n",
            "Actual Marathi Translation:  हॅमिल्टनने ब्रिटिश राज्याचा प्रतिकार केला \n",
            "Predicted Marathi Translation:  ब्रिटिश हा गोळी मारणार आहेत \n"
          ],
          "name": "stdout"
        }
      ]
    },
    {
      "cell_type": "code",
      "metadata": {
        "id": "gN7fG5hGtx6n",
        "colab_type": "code",
        "colab": {}
      },
      "source": [
        ""
      ],
      "execution_count": 0,
      "outputs": []
    }
  ]
}